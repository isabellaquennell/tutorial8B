{
 "cells": [
  {
   "cell_type": "code",
   "execution_count": null,
   "metadata": {},
   "outputs": [],
   "source": []
  },
  {
   "cell_type": "markdown",
   "metadata": {},
   "source": [
    "# Exercise: \n",
    "\n",
    "In this exercise, you will work with a data set in \"mtcars.csv\" that contains information on 31 cars. We will create a collection of scatterplots showing the relationship between horsepower (hp) and miles per gallon (mpg), displacement(disp) and quarter mile time (qsec).  Also, in each of these plots we will distinguish between automatic (am = 0) and manual (am=1) cars. Please follow the following steps: \n",
    "\n",
    "**Step 0:** create a gitHub repository for this exercise. In your local repository, copy this jupyter file. Make sure you commit and push changes to your online repository after each step. \n",
    "\n",
    "**Step 1:** Read the file into a data frame\n",
    "\n",
    "**Step 2:** Dispaly statistics about differnt columns\n",
    "\n",
    "**Step 3:** Create two dataframes from the origial one to represent manual and automatic cars\n",
    "\n",
    "**Step 4:** Now Let's first create a 1x3 figure on which we will place the three plots. Give the figure a title of \"Understanding the Effect of Horspower on other Features\"\n",
    "\n",
    "**Step 5:** On the first axis plot hp versus miles per gallon for manual cars only\n",
    "\n",
    "**Step 6:** Add to the same axis a plot for automatic car, using a different color\n",
    "\n",
    "**Step 7:** Repeat 5 and 6 for hp vs qsec\n",
    "\n",
    "**Step 8:** Repeat 5 and 6 for hp vs disp\n",
    "\n",
    "**Step 9:** Use descriptive labels, good markers, colors, and legends to enhance your graph\n",
    "\n",
    "**Step 10:** Save figures to your computer \n",
    "\n",
    "\n",
    "Advanced: Add two horizontal lines to the first plot denoting the respective average mpg for automatic and manual cars respectively. "
   ]
  },
  {
   "cell_type": "code",
   "execution_count": 26,
   "metadata": {},
   "outputs": [],
   "source": [
    "#step 1\n",
    "import pandas as pd\n",
    "import matplotlib.pyplot as plt"
   ]
  },
  {
   "cell_type": "code",
   "execution_count": 23,
   "metadata": {},
   "outputs": [
    {
     "name": "stdout",
     "output_type": "stream",
     "text": [
      "Index(['model', 'mpg', 'cyl', 'disp', 'hp', 'drat', 'wt', 'qsec', 'vs', 'am',\n",
      "       'gear', 'carb'],\n",
      "      dtype='object')\n",
      "17.848750000000003\n",
      "0    275.8\n",
      "dtype: float64\n"
     ]
    }
   ],
   "source": [
    "df = pd.read_csv('mtcars(2).csv')\n",
    "df.head(10)\n",
    "\n",
    "#step 2\n",
    "print(df.columns)\n",
    "print(df['qsec'].mean())\n",
    "print(df['disp'].mode())"
   ]
  },
  {
   "cell_type": "code",
   "execution_count": 24,
   "metadata": {},
   "outputs": [],
   "source": [
    "#step 3\n",
    "manual_dataframe = df[df['am']==1]\n",
    "auto_dataframe = df[df['am']==0]\n"
   ]
  },
  {
   "cell_type": "code",
   "execution_count": 46,
   "metadata": {},
   "outputs": [
    {
     "name": "stderr",
     "output_type": "stream",
     "text": [
      "No handles with labels found to put in legend.\n"
     ]
    },
    {
     "data": {
      "image/png": "[encoded data removed]",
      "text/plain": [
       "<Figure size 432x288 with 3 Axes>"
      ]
     },
     "metadata": {
      "needs_background": "light"
     },
     "output_type": "display_data"
    }
   ],
   "source": [
    "#step 4, 5, 6, 7, 8, 9\n",
    "fig,ax = plt.subplots(1,3)\n",
    "plt.suptitle(\"Understanding the Effect of Horspower on other Features\")\n",
    "plt.subplot(1,3,1)\n",
    "plt.scatter(auto_dataframe.hp, auto_dataframe.mpg)\n",
    "plt.scatter(manual_dataframe.hp, manual_dataframe.mpg)\n",
    "plt.title(\"horspower vs miles per gallon\")\n",
    "plt.subplot(1,3,2)\n",
    "plt.scatter(auto_dataframe.hp, auto_dataframe.qsec)\n",
    "plt.scatter(manual_dataframe.hp, manual_dataframe.qsec)\n",
    "plt.title(\"horspower vs quarter mile time\")\n",
    "plt.subplot(1,3,3)\n",
    "plt.scatter(auto_dataframe.hp, auto_dataframe.disp)\n",
    "plt.scatter(manual_dataframe.hp, manual_dataframe.disp)\n",
    "plt.title(\"horspower vs displacement\")\n",
    "plt.show()"
   ]
  },
  {
   "cell_type": "code",
   "execution_count": null,
   "metadata": {},
   "outputs": [],
   "source": []
  },
  {
   "cell_type": "code",
   "execution_count": null,
   "metadata": {},
   "outputs": [],
   "source": []
  }
 ],
 "metadata": {
  "kernelspec": {
   "display_name": "Python 3",
   "language": "python",
   "name": "python3"
  },
  "language_info": {
   "codemirror_mode": {
    "name": "ipython",
    "version": 3
   },
   "file_extension": ".py",
   "mimetype": "text/x-python",
   "name": "python",
   "nbconvert_exporter": "python",
   "pygments_lexer": "ipython3",
   "version": "3.8.5"
  },
  "toc": {
   "colors": {
    "hover_highlight": "#DAA520",
    "navigate_num": "#000000",
    "navigate_text": "#333333",
    "running_highlight": "#FF0000",
    "selected_highlight": "#FFD700",
    "sidebar_border": "#EEEEEE",
    "wrapper_background": "#FFFFFF"
   },
   "moveMenuLeft": true,
   "nav_menu": {},
   "navigate_menu": true,
   "number_sections": true,
   "sideBar": true,
   "skip_h1_title": false,
   "threshold": 4,
   "toc_cell": false,
   "toc_position": {},
   "toc_section_display": "block",
   "toc_window_display": false,
   "widenNotebook": false
  }
 },
 "nbformat": 4,
 "nbformat_minor": 2
}
